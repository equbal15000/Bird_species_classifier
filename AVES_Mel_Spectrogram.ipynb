{
 "cells": [
  {
   "cell_type": "markdown",
   "metadata": {},
   "source": [
    "# Importing Libraries"
   ]
  },
  {
   "cell_type": "code",
   "execution_count": null,
   "metadata": {},
   "outputs": [],
   "source": [
    "import efficientnet.tfkeras as efn  # Convolutional Neural Network architecture\n",
    "import IPython.display as ipd\n",
    "import librosa.display\n",
    "import matplotlib.pyplot as plt\n",
    "import numpy as np\n",
    "from efficientnet.keras import preprocess_input\n",
    "from keras.callbacks import ModelCheckpoint, ReduceLROnPlateau\n",
    "from sklearn.utils import class_weight\n",
    "from tensorflow.keras.layers import Dense, Dropout, Flatten\n",
    "from tensorflow.keras.models import Model\n",
    "from tensorflow.keras.optimizers import Adam\n",
    "from tensorflow.keras.preprocessing.image import ImageDataGenerator"
   ]
  },
  {
   "cell_type": "code",
   "execution_count": null,
   "metadata": {},
   "outputs": [],
   "source": [
    "import os"
   ]
  },
  {
   "cell_type": "markdown",
   "metadata": {},
   "source": [
    "# Data Preprocess"
   ]
  },
  {
   "cell_type": "code",
   "execution_count": 11,
   "metadata": {},
   "outputs": [
    {
     "data": {
      "text/plain": [
       "['Project',\n",
       " 'Train_Test_spilt.ipynb',\n",
       " 'turdu15.ipynb',\n",
       " 'turdu5.ipynb',\n",
       " 'wav_file']"
      ]
     },
     "execution_count": 11,
     "metadata": {},
     "output_type": "execute_result"
    }
   ],
   "source": [
    "list1 = os.listdir(os.getcwd())[2:]\n",
    "list1"
   ]
  },
  {
   "cell_type": "code",
   "execution_count": null,
   "metadata": {},
   "outputs": [],
   "source": [
    "for j in range(len(list1)):\n",
    "    SOUND_DIR = list1[j]\n",
    "    # listen to the recording\n",
    "    ipd.display(ipd.Audio(SOUND_DIR))\n",
    "\n",
    "    # load the mp3 file\n",
    "    signal, sr = librosa.load(SOUND_DIR, duration=10)  # sr = sampling rate\n",
    "\n",
    "    # plot recording signal\n",
    "    plt.figure(figsize=(10, 4))\n",
    "    librosa.display.waveshow(signal, sr=sr)\n",
    "    plt.title(\"Monophonic\")\n",
    "    plt.show()\n",
    "\n",
    "\n",
    "    # Plot mel-spectrogram with high-pass filter\n",
    "    N_FFT = 1024\n",
    "    HOP_SIZE = 1024\n",
    "    N_MELS = 128\n",
    "    WIN_SIZE = 1024\n",
    "    WINDOW_TYPE = \"hann\"\n",
    "    FEATURE = \"mel\"\n",
    "    FMIN = 1400\n",
    "\n",
    "    S = librosa.feature.melspectrogram(\n",
    "        y=signal,\n",
    "        sr=sr,\n",
    "        n_fft=N_FFT,\n",
    "        hop_length=HOP_SIZE,\n",
    "        n_mels=N_MELS,\n",
    "        htk=True,\n",
    "        fmin=FMIN,\n",
    "        fmax=sr / 2,\n",
    "    )\n",
    "\n",
    "    f1 = plt.figure(figsize=(10, 4))\n",
    "    librosa.display.specshow(\n",
    "        librosa.power_to_db(S ** 2, ref=np.max), fmin=FMIN, y_axis=\"linear\"\n",
    "    )\n",
    "    plt.colorbar(format=\"%+2.0f dB\")\n",
    "    plt.title(\"Mel-scaled spectrogram with high-pass filter - 10 seconds\")\n",
    "    plt.savefig(f\"{j}_Song_Sparrow.png\")\n",
    "    plt.show()"
   ]
  },
  {
   "cell_type": "code",
   "execution_count": null,
   "metadata": {},
   "outputs": [],
   "source": []
  }
 ],
 "metadata": {
  "kernelspec": {
   "display_name": "Python 3",
   "language": "python",
   "name": "python3"
  },
  "language_info": {
   "codemirror_mode": {
    "name": "ipython",
    "version": 3
   },
   "file_extension": ".py",
   "mimetype": "text/x-python",
   "name": "python",
   "nbconvert_exporter": "python",
   "pygments_lexer": "ipython3",
   "version": "3.8.8"
  }
 },
 "nbformat": 4,
 "nbformat_minor": 4
}
